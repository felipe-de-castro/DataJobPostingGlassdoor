{
 "cells": [
  {
   "cell_type": "code",
   "execution_count": 8,
   "metadata": {},
   "outputs": [],
   "source": [
    "import pandas as pd \n",
    "import re\n",
    "import numpy as np\n",
    "import plotly.graph_objects as go\n",
    "import matplotlib.pyplot as plt\n",
    "\n",
    "pd.set_option('display.max_columns', 30)\n"
   ]
  },
  {
   "cell_type": "code",
   "execution_count": 22,
   "metadata": {},
   "outputs": [
    {
     "data": {
      "text/html": [
       "<div>\n",
       "<style scoped>\n",
       "    .dataframe tbody tr th:only-of-type {\n",
       "        vertical-align: middle;\n",
       "    }\n",
       "\n",
       "    .dataframe tbody tr th {\n",
       "        vertical-align: top;\n",
       "    }\n",
       "\n",
       "    .dataframe thead th {\n",
       "        text-align: right;\n",
       "    }\n",
       "</style>\n",
       "<table border=\"1\" class=\"dataframe\">\n",
       "  <thead>\n",
       "    <tr style=\"text-align: right;\">\n",
       "      <th></th>\n",
       "      <th>Job Title</th>\n",
       "      <th>Salary Estimate</th>\n",
       "      <th>Job Description</th>\n",
       "      <th>Rating</th>\n",
       "      <th>Company Name</th>\n",
       "      <th>Location</th>\n",
       "      <th>Headquarters</th>\n",
       "      <th>Size</th>\n",
       "      <th>Type of ownership</th>\n",
       "      <th>Industry</th>\n",
       "      <th>Sector</th>\n",
       "      <th>Revenue</th>\n",
       "      <th>min_salary</th>\n",
       "      <th>max_salary</th>\n",
       "      <th>avg_salary</th>\n",
       "      <th>job_state</th>\n",
       "      <th>same_state</th>\n",
       "      <th>company_age</th>\n",
       "      <th>python</th>\n",
       "      <th>excel</th>\n",
       "      <th>hadoop</th>\n",
       "      <th>spark</th>\n",
       "      <th>aws</th>\n",
       "      <th>tableau</th>\n",
       "      <th>big_data</th>\n",
       "      <th>job_simp</th>\n",
       "      <th>seniority</th>\n",
       "    </tr>\n",
       "  </thead>\n",
       "  <tbody>\n",
       "    <tr>\n",
       "      <th>0</th>\n",
       "      <td>Sr Data Scientist</td>\n",
       "      <td>137-171</td>\n",
       "      <td>Description\\n\\nThe Senior Data Scientist is re...</td>\n",
       "      <td>3.1</td>\n",
       "      <td>Healthfirst</td>\n",
       "      <td>New York, NY</td>\n",
       "      <td>New York, NY</td>\n",
       "      <td>1001 to 5000 employees</td>\n",
       "      <td>Nonprofit Organization</td>\n",
       "      <td>Insurance Carriers</td>\n",
       "      <td>Insurance</td>\n",
       "      <td>Unknown / Non-Applicable</td>\n",
       "      <td>137</td>\n",
       "      <td>171</td>\n",
       "      <td>154</td>\n",
       "      <td>NY</td>\n",
       "      <td>1</td>\n",
       "      <td>27</td>\n",
       "      <td>0</td>\n",
       "      <td>0</td>\n",
       "      <td>0</td>\n",
       "      <td>0</td>\n",
       "      <td>1</td>\n",
       "      <td>0</td>\n",
       "      <td>0</td>\n",
       "      <td>data scientist</td>\n",
       "      <td>senior</td>\n",
       "    </tr>\n",
       "    <tr>\n",
       "      <th>1</th>\n",
       "      <td>Data Scientist</td>\n",
       "      <td>137-171</td>\n",
       "      <td>Secure our Nation, Ignite your Future\\n\\nJoin ...</td>\n",
       "      <td>4.2</td>\n",
       "      <td>ManTech</td>\n",
       "      <td>Chantilly, VA</td>\n",
       "      <td>Herndon, VA</td>\n",
       "      <td>5001 to 10000 employees</td>\n",
       "      <td>Company - Public</td>\n",
       "      <td>Research &amp; Development</td>\n",
       "      <td>Business Services</td>\n",
       "      <td>$1 to $2 billion (USD)</td>\n",
       "      <td>137</td>\n",
       "      <td>171</td>\n",
       "      <td>154</td>\n",
       "      <td>VA</td>\n",
       "      <td>0</td>\n",
       "      <td>52</td>\n",
       "      <td>0</td>\n",
       "      <td>0</td>\n",
       "      <td>1</td>\n",
       "      <td>0</td>\n",
       "      <td>0</td>\n",
       "      <td>0</td>\n",
       "      <td>1</td>\n",
       "      <td>data scientist</td>\n",
       "      <td>na</td>\n",
       "    </tr>\n",
       "    <tr>\n",
       "      <th>2</th>\n",
       "      <td>Data Scientist</td>\n",
       "      <td>137-171</td>\n",
       "      <td>Overview\\n\\n\\nAnalysis Group is one of the lar...</td>\n",
       "      <td>3.8</td>\n",
       "      <td>Analysis Group</td>\n",
       "      <td>Boston, MA</td>\n",
       "      <td>Boston, MA</td>\n",
       "      <td>1001 to 5000 employees</td>\n",
       "      <td>Private Practice / Firm</td>\n",
       "      <td>Consulting</td>\n",
       "      <td>Business Services</td>\n",
       "      <td>$100 to $500 million (USD)</td>\n",
       "      <td>137</td>\n",
       "      <td>171</td>\n",
       "      <td>154</td>\n",
       "      <td>MA</td>\n",
       "      <td>1</td>\n",
       "      <td>39</td>\n",
       "      <td>1</td>\n",
       "      <td>1</td>\n",
       "      <td>0</td>\n",
       "      <td>0</td>\n",
       "      <td>1</td>\n",
       "      <td>0</td>\n",
       "      <td>0</td>\n",
       "      <td>data scientist</td>\n",
       "      <td>na</td>\n",
       "    </tr>\n",
       "    <tr>\n",
       "      <th>3</th>\n",
       "      <td>Data Scientist</td>\n",
       "      <td>137-171</td>\n",
       "      <td>JOB DESCRIPTION:\\n\\nDo you have a passion for ...</td>\n",
       "      <td>3.5</td>\n",
       "      <td>INFICON</td>\n",
       "      <td>Newton, MA</td>\n",
       "      <td>Bad Ragaz, Switzerland</td>\n",
       "      <td>501 to 1000 employees</td>\n",
       "      <td>Company - Public</td>\n",
       "      <td>Electrical &amp; Electronic Manufacturing</td>\n",
       "      <td>Manufacturing</td>\n",
       "      <td>$100 to $500 million (USD)</td>\n",
       "      <td>137</td>\n",
       "      <td>171</td>\n",
       "      <td>154</td>\n",
       "      <td>MA</td>\n",
       "      <td>0</td>\n",
       "      <td>20</td>\n",
       "      <td>1</td>\n",
       "      <td>1</td>\n",
       "      <td>0</td>\n",
       "      <td>0</td>\n",
       "      <td>1</td>\n",
       "      <td>0</td>\n",
       "      <td>0</td>\n",
       "      <td>data scientist</td>\n",
       "      <td>na</td>\n",
       "    </tr>\n",
       "    <tr>\n",
       "      <th>4</th>\n",
       "      <td>Data Scientist</td>\n",
       "      <td>137-171</td>\n",
       "      <td>Data Scientist\\nAffinity Solutions / Marketing...</td>\n",
       "      <td>2.9</td>\n",
       "      <td>Affinity Solutions</td>\n",
       "      <td>New York, NY</td>\n",
       "      <td>New York, NY</td>\n",
       "      <td>51 to 200 employees</td>\n",
       "      <td>Company - Private</td>\n",
       "      <td>Advertising &amp; Marketing</td>\n",
       "      <td>Business Services</td>\n",
       "      <td>Unknown / Non-Applicable</td>\n",
       "      <td>137</td>\n",
       "      <td>171</td>\n",
       "      <td>154</td>\n",
       "      <td>NY</td>\n",
       "      <td>1</td>\n",
       "      <td>22</td>\n",
       "      <td>1</td>\n",
       "      <td>1</td>\n",
       "      <td>0</td>\n",
       "      <td>0</td>\n",
       "      <td>0</td>\n",
       "      <td>0</td>\n",
       "      <td>0</td>\n",
       "      <td>data scientist</td>\n",
       "      <td>na</td>\n",
       "    </tr>\n",
       "    <tr>\n",
       "      <th>...</th>\n",
       "      <td>...</td>\n",
       "      <td>...</td>\n",
       "      <td>...</td>\n",
       "      <td>...</td>\n",
       "      <td>...</td>\n",
       "      <td>...</td>\n",
       "      <td>...</td>\n",
       "      <td>...</td>\n",
       "      <td>...</td>\n",
       "      <td>...</td>\n",
       "      <td>...</td>\n",
       "      <td>...</td>\n",
       "      <td>...</td>\n",
       "      <td>...</td>\n",
       "      <td>...</td>\n",
       "      <td>...</td>\n",
       "      <td>...</td>\n",
       "      <td>...</td>\n",
       "      <td>...</td>\n",
       "      <td>...</td>\n",
       "      <td>...</td>\n",
       "      <td>...</td>\n",
       "      <td>...</td>\n",
       "      <td>...</td>\n",
       "      <td>...</td>\n",
       "      <td>...</td>\n",
       "      <td>...</td>\n",
       "    </tr>\n",
       "    <tr>\n",
       "      <th>655</th>\n",
       "      <td>Data Scientist</td>\n",
       "      <td>105-167</td>\n",
       "      <td>Summary\\n\\nWe’re looking for a data scientist ...</td>\n",
       "      <td>3.6</td>\n",
       "      <td>TRANZACT</td>\n",
       "      <td>Fort Lee, NJ</td>\n",
       "      <td>Fort Lee, NJ</td>\n",
       "      <td>1001 to 5000 employees</td>\n",
       "      <td>Company - Private</td>\n",
       "      <td>Advertising &amp; Marketing</td>\n",
       "      <td>Business Services</td>\n",
       "      <td>Unknown / Non-Applicable</td>\n",
       "      <td>105</td>\n",
       "      <td>167</td>\n",
       "      <td>136</td>\n",
       "      <td>NJ</td>\n",
       "      <td>1</td>\n",
       "      <td>31</td>\n",
       "      <td>1</td>\n",
       "      <td>1</td>\n",
       "      <td>1</td>\n",
       "      <td>0</td>\n",
       "      <td>0</td>\n",
       "      <td>1</td>\n",
       "      <td>1</td>\n",
       "      <td>data scientist</td>\n",
       "      <td>na</td>\n",
       "    </tr>\n",
       "    <tr>\n",
       "      <th>656</th>\n",
       "      <td>Data Scientist</td>\n",
       "      <td>105-167</td>\n",
       "      <td>Job Description\\nBecome a thought leader withi...</td>\n",
       "      <td>0.0</td>\n",
       "      <td>JKGT</td>\n",
       "      <td>San Francisco, CA</td>\n",
       "      <td>-1</td>\n",
       "      <td>-1</td>\n",
       "      <td>-1</td>\n",
       "      <td>-1</td>\n",
       "      <td>-1</td>\n",
       "      <td>-1</td>\n",
       "      <td>105</td>\n",
       "      <td>167</td>\n",
       "      <td>136</td>\n",
       "      <td>CA</td>\n",
       "      <td>0</td>\n",
       "      <td>-1</td>\n",
       "      <td>0</td>\n",
       "      <td>0</td>\n",
       "      <td>0</td>\n",
       "      <td>0</td>\n",
       "      <td>0</td>\n",
       "      <td>0</td>\n",
       "      <td>0</td>\n",
       "      <td>data scientist</td>\n",
       "      <td>na</td>\n",
       "    </tr>\n",
       "    <tr>\n",
       "      <th>657</th>\n",
       "      <td>Data Scientist</td>\n",
       "      <td>105-167</td>\n",
       "      <td>Join a thriving company that is changing the w...</td>\n",
       "      <td>0.0</td>\n",
       "      <td>AccessHope</td>\n",
       "      <td>Irwindale, CA</td>\n",
       "      <td>-1</td>\n",
       "      <td>-1</td>\n",
       "      <td>-1</td>\n",
       "      <td>-1</td>\n",
       "      <td>-1</td>\n",
       "      <td>-1</td>\n",
       "      <td>105</td>\n",
       "      <td>167</td>\n",
       "      <td>136</td>\n",
       "      <td>CA</td>\n",
       "      <td>0</td>\n",
       "      <td>-1</td>\n",
       "      <td>1</td>\n",
       "      <td>1</td>\n",
       "      <td>1</td>\n",
       "      <td>0</td>\n",
       "      <td>0</td>\n",
       "      <td>1</td>\n",
       "      <td>0</td>\n",
       "      <td>data scientist</td>\n",
       "      <td>na</td>\n",
       "    </tr>\n",
       "    <tr>\n",
       "      <th>658</th>\n",
       "      <td>Data Scientist</td>\n",
       "      <td>105-167</td>\n",
       "      <td>100 Remote Opportunity As an AINLP Data Scient...</td>\n",
       "      <td>5.0</td>\n",
       "      <td>ChaTeck Incorporated</td>\n",
       "      <td>San Francisco, CA</td>\n",
       "      <td>Santa Clara, CA</td>\n",
       "      <td>1 to 50 employees</td>\n",
       "      <td>Company - Private</td>\n",
       "      <td>Advertising &amp; Marketing</td>\n",
       "      <td>Business Services</td>\n",
       "      <td>$1 to $5 million (USD)</td>\n",
       "      <td>105</td>\n",
       "      <td>167</td>\n",
       "      <td>136</td>\n",
       "      <td>CA</td>\n",
       "      <td>0</td>\n",
       "      <td>-1</td>\n",
       "      <td>1</td>\n",
       "      <td>0</td>\n",
       "      <td>1</td>\n",
       "      <td>1</td>\n",
       "      <td>0</td>\n",
       "      <td>0</td>\n",
       "      <td>1</td>\n",
       "      <td>data scientist</td>\n",
       "      <td>na</td>\n",
       "    </tr>\n",
       "    <tr>\n",
       "      <th>659</th>\n",
       "      <td>Data Scientist</td>\n",
       "      <td>105-167</td>\n",
       "      <td>Description\\n\\nThe Data Scientist will be part...</td>\n",
       "      <td>2.7</td>\n",
       "      <td>1-800-Flowers</td>\n",
       "      <td>New York, NY</td>\n",
       "      <td>Carle Place, NY</td>\n",
       "      <td>1001 to 5000 employees</td>\n",
       "      <td>Company - Public</td>\n",
       "      <td>Wholesale</td>\n",
       "      <td>Business Services</td>\n",
       "      <td>$1 to $2 billion (USD)</td>\n",
       "      <td>105</td>\n",
       "      <td>167</td>\n",
       "      <td>136</td>\n",
       "      <td>NY</td>\n",
       "      <td>0</td>\n",
       "      <td>44</td>\n",
       "      <td>1</td>\n",
       "      <td>1</td>\n",
       "      <td>0</td>\n",
       "      <td>0</td>\n",
       "      <td>0</td>\n",
       "      <td>1</td>\n",
       "      <td>0</td>\n",
       "      <td>data scientist</td>\n",
       "      <td>na</td>\n",
       "    </tr>\n",
       "  </tbody>\n",
       "</table>\n",
       "<p>660 rows × 27 columns</p>\n",
       "</div>"
      ],
      "text/plain": [
       "             Job Title Salary Estimate  \\\n",
       "0    Sr Data Scientist        137-171    \n",
       "1       Data Scientist        137-171    \n",
       "2       Data Scientist        137-171    \n",
       "3       Data Scientist        137-171    \n",
       "4       Data Scientist        137-171    \n",
       "..                 ...             ...   \n",
       "655     Data Scientist        105-167    \n",
       "656     Data Scientist        105-167    \n",
       "657     Data Scientist        105-167    \n",
       "658     Data Scientist        105-167    \n",
       "659     Data Scientist        105-167    \n",
       "\n",
       "                                       Job Description  Rating  \\\n",
       "0    Description\\n\\nThe Senior Data Scientist is re...     3.1   \n",
       "1    Secure our Nation, Ignite your Future\\n\\nJoin ...     4.2   \n",
       "2    Overview\\n\\n\\nAnalysis Group is one of the lar...     3.8   \n",
       "3    JOB DESCRIPTION:\\n\\nDo you have a passion for ...     3.5   \n",
       "4    Data Scientist\\nAffinity Solutions / Marketing...     2.9   \n",
       "..                                                 ...     ...   \n",
       "655  Summary\\n\\nWe’re looking for a data scientist ...     3.6   \n",
       "656  Job Description\\nBecome a thought leader withi...     0.0   \n",
       "657  Join a thriving company that is changing the w...     0.0   \n",
       "658  100 Remote Opportunity As an AINLP Data Scient...     5.0   \n",
       "659  Description\\n\\nThe Data Scientist will be part...     2.7   \n",
       "\n",
       "             Company Name           Location            Headquarters  \\\n",
       "0             Healthfirst       New York, NY            New York, NY   \n",
       "1                 ManTech      Chantilly, VA             Herndon, VA   \n",
       "2          Analysis Group         Boston, MA              Boston, MA   \n",
       "3                 INFICON         Newton, MA  Bad Ragaz, Switzerland   \n",
       "4      Affinity Solutions       New York, NY            New York, NY   \n",
       "..                    ...                ...                     ...   \n",
       "655              TRANZACT       Fort Lee, NJ            Fort Lee, NJ   \n",
       "656                  JKGT  San Francisco, CA                      -1   \n",
       "657            AccessHope      Irwindale, CA                      -1   \n",
       "658  ChaTeck Incorporated  San Francisco, CA         Santa Clara, CA   \n",
       "659         1-800-Flowers       New York, NY         Carle Place, NY   \n",
       "\n",
       "                        Size        Type of ownership  \\\n",
       "0     1001 to 5000 employees   Nonprofit Organization   \n",
       "1    5001 to 10000 employees         Company - Public   \n",
       "2     1001 to 5000 employees  Private Practice / Firm   \n",
       "3      501 to 1000 employees         Company - Public   \n",
       "4        51 to 200 employees        Company - Private   \n",
       "..                       ...                      ...   \n",
       "655   1001 to 5000 employees        Company - Private   \n",
       "656                       -1                       -1   \n",
       "657                       -1                       -1   \n",
       "658        1 to 50 employees        Company - Private   \n",
       "659   1001 to 5000 employees         Company - Public   \n",
       "\n",
       "                                  Industry             Sector  \\\n",
       "0                       Insurance Carriers          Insurance   \n",
       "1                   Research & Development  Business Services   \n",
       "2                               Consulting  Business Services   \n",
       "3    Electrical & Electronic Manufacturing      Manufacturing   \n",
       "4                  Advertising & Marketing  Business Services   \n",
       "..                                     ...                ...   \n",
       "655                Advertising & Marketing  Business Services   \n",
       "656                                     -1                 -1   \n",
       "657                                     -1                 -1   \n",
       "658                Advertising & Marketing  Business Services   \n",
       "659                              Wholesale  Business Services   \n",
       "\n",
       "                        Revenue  min_salary  max_salary  avg_salary job_state  \\\n",
       "0      Unknown / Non-Applicable         137         171         154        NY   \n",
       "1        $1 to $2 billion (USD)         137         171         154        VA   \n",
       "2    $100 to $500 million (USD)         137         171         154        MA   \n",
       "3    $100 to $500 million (USD)         137         171         154        MA   \n",
       "4      Unknown / Non-Applicable         137         171         154        NY   \n",
       "..                          ...         ...         ...         ...       ...   \n",
       "655    Unknown / Non-Applicable         105         167         136        NJ   \n",
       "656                          -1         105         167         136        CA   \n",
       "657                          -1         105         167         136        CA   \n",
       "658      $1 to $5 million (USD)         105         167         136        CA   \n",
       "659      $1 to $2 billion (USD)         105         167         136        NY   \n",
       "\n",
       "     same_state  company_age  python  excel  hadoop  spark  aws  tableau  \\\n",
       "0             1           27       0      0       0      0    1        0   \n",
       "1             0           52       0      0       1      0    0        0   \n",
       "2             1           39       1      1       0      0    1        0   \n",
       "3             0           20       1      1       0      0    1        0   \n",
       "4             1           22       1      1       0      0    0        0   \n",
       "..          ...          ...     ...    ...     ...    ...  ...      ...   \n",
       "655           1           31       1      1       1      0    0        1   \n",
       "656           0           -1       0      0       0      0    0        0   \n",
       "657           0           -1       1      1       1      0    0        1   \n",
       "658           0           -1       1      0       1      1    0        0   \n",
       "659           0           44       1      1       0      0    0        1   \n",
       "\n",
       "     big_data        job_simp seniority  \n",
       "0           0  data scientist    senior  \n",
       "1           1  data scientist        na  \n",
       "2           0  data scientist        na  \n",
       "3           0  data scientist        na  \n",
       "4           0  data scientist        na  \n",
       "..        ...             ...       ...  \n",
       "655         1  data scientist        na  \n",
       "656         0  data scientist        na  \n",
       "657         0  data scientist        na  \n",
       "658         1  data scientist        na  \n",
       "659         0  data scientist        na  \n",
       "\n",
       "[660 rows x 27 columns]"
      ]
     },
     "execution_count": 22,
     "metadata": {},
     "output_type": "execute_result"
    }
   ],
   "source": [
    "df1 = df = pd.read_csv('data/Cleaned_DS_Jobs.csv')\n",
    "df1"
   ]
  },
  {
   "cell_type": "code",
   "execution_count": 9,
   "metadata": {},
   "outputs": [],
   "source": [
    "## Cleaning data\n",
    "df = pd.read_csv('data/Uncleaned_DS_jobs.csv')\n",
    "\n",
    "## reseting index\n",
    "df.set_index('index', inplace=True)\n",
    "df.reset_index(drop=True, inplace=True)\n",
    "\n",
    "## Cleaning the Company column\n",
    "df['Company Name'] = df['Company Name'].str.split('\\n').str[0]\n",
    "\n",
    "## Cleaning the Salary Estimate column\n",
    "df['Salary Estimate'] = df['Salary Estimate'].str.replace('[$K]', '', regex=True).str.split(' ').str[0]\n",
    "\n",
    "## Scrapping the Job description to get more columns variables\n",
    "\n",
    "df['min_salary'] = df['Salary Estimate'].str.split('-').str[0]\n",
    "\n",
    "df['max_salary'] = df['Salary Estimate'].str.split('-').str[1]\n",
    "\n",
    "df['job_state'] = df['Location'].str.split(', ').str[1]\n",
    "\n",
    "# Skills from description\n",
    "df['diploma'] = np.where(df['Job Description'].str.contains(\"(?i)Bachelor\"), 1, 0)\n",
    "\n",
    "df['python'] = np.where(df['Job Description'].str.contains(\"(?i)python\"), 1, 0)\n",
    "\n",
    "df['R'] = np.where(df['Job Description'].str.contains(r'\\bR\\b', case=False, regex=True), 1, 0)\n",
    "\n",
    "df['excel'] = np.where(df['Job Description'].str.contains(\"(?i)excel\"), 1, 0)\n",
    "\n",
    "df['sql'] = np.where(df['Job Description'].str.contains(\"(?i)sql\"), 1, 0)\n",
    "\n",
    "df['hadoop'] = np.where(df['Job Description'].str.contains(\"(?i)hadoop\"), 1, 0)\n",
    "\n",
    "df['spark'] = np.where(df['Job Description'].str.contains(\"(?i)spark\"), 1, 0)\n",
    "\n",
    "df['aws'] = np.where(df['Job Description'].str.contains(\"(?i)aws|amazon web service\"), 1, 0)\n",
    "\n",
    "df['azure'] = np.where(df['Job Description'].str.contains(\"(?i)azure\"), 1, 0)\n",
    "\n",
    "## Used the Job title to extract the level (senior)\n",
    "df['seniority'] = np.where(df['Job Title'].str.contains(\"(?i)sr\"),1,0)\n",
    "\n",
    "\n",
    "df"
   ]
  },
  {
   "cell_type": "code",
   "execution_count": 11,
   "metadata": {},
   "outputs": [
    {
     "name": "stdout",
     "output_type": "stream",
     "text": [
      "0      Description\\n\\nThe Senior Data Scientist is re...\n",
      "33     Acuity is seeking a Senior Research Statistici...\n",
      "37     Join Our Growing Team\\nA career with A Place f...\n",
      "38     Job Title: Data Scientists\\n\\nJob Description\\...\n",
      "39     At Edmunds were driven to make car buying easi...\n",
      "                             ...                        \n",
      "652    About Us\\n\\nAt GutCheck, we pioneered agile ma...\n",
      "653    Sr. ML/Data Scientist - AI/NLP/Chatbot\\n\\nMist...\n",
      "654    JOB DESCRIPTION:\\n\\nHexagon US Federal is look...\n",
      "655    Role: Data ScientistÂ\\n\\nLocation: Washington,...\n",
      "663    Job Description\\nEducation and Experience:\\nAt...\n",
      "Name: Job Description, Length: 134, dtype: object\n",
      "\n",
      "Join a thriving company that is changing the way cancer care is delivered for millions of patients around the country. Recently spun off from an internationally renowned research and treatment hospital, AccessHope understands that cancer doesn’t play by the rules, so we don’t either. We are an agile innovative brand that’s backed by a founding member of the National Cancer Center Network. Now, we’re joining forces with employers to bring state-of-the-art cancer expertise to their employees and give patients access to the latest developments in precision medicine, genetic risk assessment and clinical trials, regardless of where they live. The goal? To dramatically improve care, outcomes and value during cancer treatment.\n",
      "\n",
      "It’s a revolutionary new model – and we’re looking for revolutionary thinkers to join us.\n",
      "\n",
      "A data scientist is someone who knows how to extract meaning from and interpret data, which requires both tools and methods from statistics and machine learning, as well as being human.\n",
      "\n",
      "Role & Responsibility\n",
      "\n",
      "The Data Scientist is responsible for advising the business on the potential of data, to provide new insights into the business's mission, and through the use of advanced statistical analysis, data mining, and data visualization techniques, to create solutions that enable enhanced business performance.\n",
      "\n",
      "The Data Scientist functions include:\n",
      "Undertaking data collection, pre-processing and analysis\n",
      "Building models to address business problems\n",
      "Presenting information using data visualization techniques\n",
      "Identify valuable data sources and automate collection processes\n",
      "Analyze large amounts of information to discover trends and patterns\n",
      "Skills\n",
      "Programming\n",
      "Statistics\n",
      "Data Wrangling\n",
      "Data Visualization & Communication\n",
      "Data Intuition\n",
      "Machine Learning (algorithms\n",
      "Requirements\n",
      "Minimum 3 years’ experience as a Data Scientist or Data Analyst\n",
      "Experience in data mining\n",
      "Understanding of machine-learning and operations research\n",
      "Knowledge of R, SQL and Python; familiarity with Scala, Java or C++ is an asset\n",
      "Experience with in-depth rate development templates, risk score analyses, trend analyses, cost management/financial initiatives, back-end technical development and programming\n",
      "Experience using business intelligence tools (e.g. Tableau, Power BI) and data frameworks (e.g. Hadoop)\n",
      "Analytical mind and business acumen\n",
      "Problem-solving aptitude\n",
      "Excellent communication and presentation skills\n",
      "BSc/BA in Computer Science, Engineering or relevant field; graduate degree in Data Science or other quantitative field is preferred\n",
      "Healthcare experience a plus, but not required.\n",
      "Education\n",
      "BSc/BA in Computer Science, Engineering or relevant field; graduate degree in Data Science or other quantitative field is preferred\n",
      "Healthcare experience a plus, but not required.\n"
     ]
    }
   ],
   "source": [
    "## Analysis the Job Description for Junior / Senior level\n",
    "x_df = df['Job Description'].str.contains(\"(?i)senior\")\n",
    "filtered_df = df[x_df]\n",
    "print(filtered_df['Job Description'])\n",
    "print(f\"\\n{df['Job Description'][669]}\")"
   ]
  },
  {
   "cell_type": "markdown",
   "metadata": {},
   "source": [
    "\n",
    "#### What is the distribution of job postings by location?\n",
    "\n",
    "*Since the folowing graph is a interactive plot using JavaScript, github may not support the execution. A sample of the graph is on the read.me file.*\n",
    "- The most jobs posting are in California with 165 positions, followed by Virginia and Massachusetts.\n",
    "- the least jobs posting are in Louisiana, Mississippi and Kansas.\n"
   ]
  },
  {
   "cell_type": "code",
   "execution_count": 12,
   "metadata": {},
   "outputs": [
    {
     "data": {
      "application/vnd.plotly.v1+json": {
       "config": {
        "plotlyServerURL": "https://plot.ly"
       },
       "data": [
        {
         "colorbar": {
          "title": {
           "text": "Job Count"
          }
         },
         "colorscale": [
          [
           0,
           "rgb(255,245,240)"
          ],
          [
           0.125,
           "rgb(254,224,210)"
          ],
          [
           0.25,
           "rgb(252,187,161)"
          ],
          [
           0.375,
           "rgb(252,146,114)"
          ],
          [
           0.5,
           "rgb(251,106,74)"
          ],
          [
           0.625,
           "rgb(239,59,44)"
          ],
          [
           0.75,
           "rgb(203,24,29)"
          ],
          [
           0.875,
           "rgb(165,15,21)"
          ],
          [
           1,
           "rgb(103,0,13)"
          ]
         ],
         "locationmode": "USA-states",
         "locations": [
          "CA",
          "VA",
          "MA",
          "NY",
          "MD",
          "IL",
          "DC",
          "TX",
          "WA",
          "OH",
          "MO",
          "PA",
          "NJ",
          "CO",
          "NC",
          "GA",
          "FL",
          "TN",
          "OK",
          "WI",
          "MI",
          "IN",
          "MN",
          "AL",
          "CT",
          "AZ",
          "UT",
          "IA",
          "NE",
          "OR",
          "SC",
          "RI",
          "NH",
          "DE",
          "Anne Arundel",
          "LA",
          "MS",
          "KS",
          "WV"
         ],
         "type": "choropleth",
         "z": [
          165,
          89,
          62,
          52,
          39,
          30,
          26,
          17,
          16,
          14,
          12,
          12,
          10,
          10,
          9,
          9,
          8,
          8,
          6,
          6,
          5,
          5,
          4,
          4,
          4,
          4,
          3,
          3,
          3,
          2,
          2,
          2,
          2,
          1,
          1,
          1,
          1,
          1,
          1
         ]
        }
       ],
       "layout": {
        "geo": {
         "scope": "usa"
        },
        "margin": {
         "b": 30,
         "l": 30,
         "r": 30,
         "t": 30
        },
        "template": {
         "data": {
          "bar": [
           {
            "error_x": {
             "color": "#2a3f5f"
            },
            "error_y": {
             "color": "#2a3f5f"
            },
            "marker": {
             "line": {
              "color": "#E5ECF6",
              "width": 0.5
             },
             "pattern": {
              "fillmode": "overlay",
              "size": 10,
              "solidity": 0.2
             }
            },
            "type": "bar"
           }
          ],
          "barpolar": [
           {
            "marker": {
             "line": {
              "color": "#E5ECF6",
              "width": 0.5
             },
             "pattern": {
              "fillmode": "overlay",
              "size": 10,
              "solidity": 0.2
             }
            },
            "type": "barpolar"
           }
          ],
          "carpet": [
           {
            "aaxis": {
             "endlinecolor": "#2a3f5f",
             "gridcolor": "white",
             "linecolor": "white",
             "minorgridcolor": "white",
             "startlinecolor": "#2a3f5f"
            },
            "baxis": {
             "endlinecolor": "#2a3f5f",
             "gridcolor": "white",
             "linecolor": "white",
             "minorgridcolor": "white",
             "startlinecolor": "#2a3f5f"
            },
            "type": "carpet"
           }
          ],
          "choropleth": [
           {
            "colorbar": {
             "outlinewidth": 0,
             "ticks": ""
            },
            "type": "choropleth"
           }
          ],
          "contour": [
           {
            "colorbar": {
             "outlinewidth": 0,
             "ticks": ""
            },
            "colorscale": [
             [
              0,
              "#0d0887"
             ],
             [
              0.1111111111111111,
              "#46039f"
             ],
             [
              0.2222222222222222,
              "#7201a8"
             ],
             [
              0.3333333333333333,
              "#9c179e"
             ],
             [
              0.4444444444444444,
              "#bd3786"
             ],
             [
              0.5555555555555556,
              "#d8576b"
             ],
             [
              0.6666666666666666,
              "#ed7953"
             ],
             [
              0.7777777777777778,
              "#fb9f3a"
             ],
             [
              0.8888888888888888,
              "#fdca26"
             ],
             [
              1,
              "#f0f921"
             ]
            ],
            "type": "contour"
           }
          ],
          "contourcarpet": [
           {
            "colorbar": {
             "outlinewidth": 0,
             "ticks": ""
            },
            "type": "contourcarpet"
           }
          ],
          "heatmap": [
           {
            "colorbar": {
             "outlinewidth": 0,
             "ticks": ""
            },
            "colorscale": [
             [
              0,
              "#0d0887"
             ],
             [
              0.1111111111111111,
              "#46039f"
             ],
             [
              0.2222222222222222,
              "#7201a8"
             ],
             [
              0.3333333333333333,
              "#9c179e"
             ],
             [
              0.4444444444444444,
              "#bd3786"
             ],
             [
              0.5555555555555556,
              "#d8576b"
             ],
             [
              0.6666666666666666,
              "#ed7953"
             ],
             [
              0.7777777777777778,
              "#fb9f3a"
             ],
             [
              0.8888888888888888,
              "#fdca26"
             ],
             [
              1,
              "#f0f921"
             ]
            ],
            "type": "heatmap"
           }
          ],
          "heatmapgl": [
           {
            "colorbar": {
             "outlinewidth": 0,
             "ticks": ""
            },
            "colorscale": [
             [
              0,
              "#0d0887"
             ],
             [
              0.1111111111111111,
              "#46039f"
             ],
             [
              0.2222222222222222,
              "#7201a8"
             ],
             [
              0.3333333333333333,
              "#9c179e"
             ],
             [
              0.4444444444444444,
              "#bd3786"
             ],
             [
              0.5555555555555556,
              "#d8576b"
             ],
             [
              0.6666666666666666,
              "#ed7953"
             ],
             [
              0.7777777777777778,
              "#fb9f3a"
             ],
             [
              0.8888888888888888,
              "#fdca26"
             ],
             [
              1,
              "#f0f921"
             ]
            ],
            "type": "heatmapgl"
           }
          ],
          "histogram": [
           {
            "marker": {
             "pattern": {
              "fillmode": "overlay",
              "size": 10,
              "solidity": 0.2
             }
            },
            "type": "histogram"
           }
          ],
          "histogram2d": [
           {
            "colorbar": {
             "outlinewidth": 0,
             "ticks": ""
            },
            "colorscale": [
             [
              0,
              "#0d0887"
             ],
             [
              0.1111111111111111,
              "#46039f"
             ],
             [
              0.2222222222222222,
              "#7201a8"
             ],
             [
              0.3333333333333333,
              "#9c179e"
             ],
             [
              0.4444444444444444,
              "#bd3786"
             ],
             [
              0.5555555555555556,
              "#d8576b"
             ],
             [
              0.6666666666666666,
              "#ed7953"
             ],
             [
              0.7777777777777778,
              "#fb9f3a"
             ],
             [
              0.8888888888888888,
              "#fdca26"
             ],
             [
              1,
              "#f0f921"
             ]
            ],
            "type": "histogram2d"
           }
          ],
          "histogram2dcontour": [
           {
            "colorbar": {
             "outlinewidth": 0,
             "ticks": ""
            },
            "colorscale": [
             [
              0,
              "#0d0887"
             ],
             [
              0.1111111111111111,
              "#46039f"
             ],
             [
              0.2222222222222222,
              "#7201a8"
             ],
             [
              0.3333333333333333,
              "#9c179e"
             ],
             [
              0.4444444444444444,
              "#bd3786"
             ],
             [
              0.5555555555555556,
              "#d8576b"
             ],
             [
              0.6666666666666666,
              "#ed7953"
             ],
             [
              0.7777777777777778,
              "#fb9f3a"
             ],
             [
              0.8888888888888888,
              "#fdca26"
             ],
             [
              1,
              "#f0f921"
             ]
            ],
            "type": "histogram2dcontour"
           }
          ],
          "mesh3d": [
           {
            "colorbar": {
             "outlinewidth": 0,
             "ticks": ""
            },
            "type": "mesh3d"
           }
          ],
          "parcoords": [
           {
            "line": {
             "colorbar": {
              "outlinewidth": 0,
              "ticks": ""
             }
            },
            "type": "parcoords"
           }
          ],
          "pie": [
           {
            "automargin": true,
            "type": "pie"
           }
          ],
          "scatter": [
           {
            "fillpattern": {
             "fillmode": "overlay",
             "size": 10,
             "solidity": 0.2
            },
            "type": "scatter"
           }
          ],
          "scatter3d": [
           {
            "line": {
             "colorbar": {
              "outlinewidth": 0,
              "ticks": ""
             }
            },
            "marker": {
             "colorbar": {
              "outlinewidth": 0,
              "ticks": ""
             }
            },
            "type": "scatter3d"
           }
          ],
          "scattercarpet": [
           {
            "marker": {
             "colorbar": {
              "outlinewidth": 0,
              "ticks": ""
             }
            },
            "type": "scattercarpet"
           }
          ],
          "scattergeo": [
           {
            "marker": {
             "colorbar": {
              "outlinewidth": 0,
              "ticks": ""
             }
            },
            "type": "scattergeo"
           }
          ],
          "scattergl": [
           {
            "marker": {
             "colorbar": {
              "outlinewidth": 0,
              "ticks": ""
             }
            },
            "type": "scattergl"
           }
          ],
          "scattermapbox": [
           {
            "marker": {
             "colorbar": {
              "outlinewidth": 0,
              "ticks": ""
             }
            },
            "type": "scattermapbox"
           }
          ],
          "scatterpolar": [
           {
            "marker": {
             "colorbar": {
              "outlinewidth": 0,
              "ticks": ""
             }
            },
            "type": "scatterpolar"
           }
          ],
          "scatterpolargl": [
           {
            "marker": {
             "colorbar": {
              "outlinewidth": 0,
              "ticks": ""
             }
            },
            "type": "scatterpolargl"
           }
          ],
          "scatterternary": [
           {
            "marker": {
             "colorbar": {
              "outlinewidth": 0,
              "ticks": ""
             }
            },
            "type": "scatterternary"
           }
          ],
          "surface": [
           {
            "colorbar": {
             "outlinewidth": 0,
             "ticks": ""
            },
            "colorscale": [
             [
              0,
              "#0d0887"
             ],
             [
              0.1111111111111111,
              "#46039f"
             ],
             [
              0.2222222222222222,
              "#7201a8"
             ],
             [
              0.3333333333333333,
              "#9c179e"
             ],
             [
              0.4444444444444444,
              "#bd3786"
             ],
             [
              0.5555555555555556,
              "#d8576b"
             ],
             [
              0.6666666666666666,
              "#ed7953"
             ],
             [
              0.7777777777777778,
              "#fb9f3a"
             ],
             [
              0.8888888888888888,
              "#fdca26"
             ],
             [
              1,
              "#f0f921"
             ]
            ],
            "type": "surface"
           }
          ],
          "table": [
           {
            "cells": {
             "fill": {
              "color": "#EBF0F8"
             },
             "line": {
              "color": "white"
             }
            },
            "header": {
             "fill": {
              "color": "#C8D4E3"
             },
             "line": {
              "color": "white"
             }
            },
            "type": "table"
           }
          ]
         },
         "layout": {
          "annotationdefaults": {
           "arrowcolor": "#2a3f5f",
           "arrowhead": 0,
           "arrowwidth": 1
          },
          "autotypenumbers": "strict",
          "coloraxis": {
           "colorbar": {
            "outlinewidth": 0,
            "ticks": ""
           }
          },
          "colorscale": {
           "diverging": [
            [
             0,
             "#8e0152"
            ],
            [
             0.1,
             "#c51b7d"
            ],
            [
             0.2,
             "#de77ae"
            ],
            [
             0.3,
             "#f1b6da"
            ],
            [
             0.4,
             "#fde0ef"
            ],
            [
             0.5,
             "#f7f7f7"
            ],
            [
             0.6,
             "#e6f5d0"
            ],
            [
             0.7,
             "#b8e186"
            ],
            [
             0.8,
             "#7fbc41"
            ],
            [
             0.9,
             "#4d9221"
            ],
            [
             1,
             "#276419"
            ]
           ],
           "sequential": [
            [
             0,
             "#0d0887"
            ],
            [
             0.1111111111111111,
             "#46039f"
            ],
            [
             0.2222222222222222,
             "#7201a8"
            ],
            [
             0.3333333333333333,
             "#9c179e"
            ],
            [
             0.4444444444444444,
             "#bd3786"
            ],
            [
             0.5555555555555556,
             "#d8576b"
            ],
            [
             0.6666666666666666,
             "#ed7953"
            ],
            [
             0.7777777777777778,
             "#fb9f3a"
            ],
            [
             0.8888888888888888,
             "#fdca26"
            ],
            [
             1,
             "#f0f921"
            ]
           ],
           "sequentialminus": [
            [
             0,
             "#0d0887"
            ],
            [
             0.1111111111111111,
             "#46039f"
            ],
            [
             0.2222222222222222,
             "#7201a8"
            ],
            [
             0.3333333333333333,
             "#9c179e"
            ],
            [
             0.4444444444444444,
             "#bd3786"
            ],
            [
             0.5555555555555556,
             "#d8576b"
            ],
            [
             0.6666666666666666,
             "#ed7953"
            ],
            [
             0.7777777777777778,
             "#fb9f3a"
            ],
            [
             0.8888888888888888,
             "#fdca26"
            ],
            [
             1,
             "#f0f921"
            ]
           ]
          },
          "colorway": [
           "#636efa",
           "#EF553B",
           "#00cc96",
           "#ab63fa",
           "#FFA15A",
           "#19d3f3",
           "#FF6692",
           "#B6E880",
           "#FF97FF",
           "#FECB52"
          ],
          "font": {
           "color": "#2a3f5f"
          },
          "geo": {
           "bgcolor": "white",
           "lakecolor": "white",
           "landcolor": "#E5ECF6",
           "showlakes": true,
           "showland": true,
           "subunitcolor": "white"
          },
          "hoverlabel": {
           "align": "left"
          },
          "hovermode": "closest",
          "mapbox": {
           "style": "light"
          },
          "paper_bgcolor": "white",
          "plot_bgcolor": "#E5ECF6",
          "polar": {
           "angularaxis": {
            "gridcolor": "white",
            "linecolor": "white",
            "ticks": ""
           },
           "bgcolor": "#E5ECF6",
           "radialaxis": {
            "gridcolor": "white",
            "linecolor": "white",
            "ticks": ""
           }
          },
          "scene": {
           "xaxis": {
            "backgroundcolor": "#E5ECF6",
            "gridcolor": "white",
            "gridwidth": 2,
            "linecolor": "white",
            "showbackground": true,
            "ticks": "",
            "zerolinecolor": "white"
           },
           "yaxis": {
            "backgroundcolor": "#E5ECF6",
            "gridcolor": "white",
            "gridwidth": 2,
            "linecolor": "white",
            "showbackground": true,
            "ticks": "",
            "zerolinecolor": "white"
           },
           "zaxis": {
            "backgroundcolor": "#E5ECF6",
            "gridcolor": "white",
            "gridwidth": 2,
            "linecolor": "white",
            "showbackground": true,
            "ticks": "",
            "zerolinecolor": "white"
           }
          },
          "shapedefaults": {
           "line": {
            "color": "#2a3f5f"
           }
          },
          "ternary": {
           "aaxis": {
            "gridcolor": "white",
            "linecolor": "white",
            "ticks": ""
           },
           "baxis": {
            "gridcolor": "white",
            "linecolor": "white",
            "ticks": ""
           },
           "bgcolor": "#E5ECF6",
           "caxis": {
            "gridcolor": "white",
            "linecolor": "white",
            "ticks": ""
           }
          },
          "title": {
           "x": 0.05
          },
          "xaxis": {
           "automargin": true,
           "gridcolor": "white",
           "linecolor": "white",
           "ticks": "",
           "title": {
            "standoff": 15
           },
           "zerolinecolor": "white",
           "zerolinewidth": 2
          },
          "yaxis": {
           "automargin": true,
           "gridcolor": "white",
           "linecolor": "white",
           "ticks": "",
           "title": {
            "standoff": 15
           },
           "zerolinecolor": "white",
           "zerolinewidth": 2
          }
         }
        },
        "title": {
         "text": "Job Posting per State"
        }
       }
      }
     },
     "metadata": {},
     "output_type": "display_data"
    }
   ],
   "source": [
    "state_counts = df['job_state'].value_counts().reset_index()\n",
    "state_counts.columns = ['State', 'Job Count']\n",
    "\n",
    "# Plotting map with States and counts\n",
    "fig = go.Figure(data=go.Choropleth(\n",
    "    locations=state_counts['State'],\n",
    "    z=state_counts['Job Count'],\n",
    "    locationmode='USA-states',\n",
    "    colorscale = 'Reds',\n",
    "    colorbar_title=\"Job Count\"\n",
    "\n",
    "))\n",
    "\n",
    "fig.update_layout(\n",
    "    title_text = 'Job Posting per State',\n",
    "    geo_scope='usa', # limite map scope to USA\n",
    ")\n",
    "\n",
    "fig.update_layout(margin=dict(l=30, r=30, t=30, b=30))\n",
    "\n",
    "\n",
    "fig.show()\n",
    "# Since this a interactive plot using JavaScript, github may not support the execution."
   ]
  },
  {
   "cell_type": "markdown",
   "metadata": {},
   "source": [
    "#### Which skills are most commonly required in job postings?\n",
    "\n",
    "Using the provided graph, it becomes evident that Python is the most commonly requested skill in jobs, followed by SQL and R. </br>\n",
    "We can also observe that Excel holds a prominent position, despite its constraint in handling large volumes of data."
   ]
  },
  {
   "cell_type": "code",
   "execution_count": 13,
   "metadata": {},
   "outputs": [
    {
     "data": {
      "image/png": "[encoded data removed]",
      "text/plain": [
       "<Figure size 1000x600 with 1 Axes>"
      ]
     },
     "metadata": {},
     "output_type": "display_data"
    }
   ],
   "source": [
    "# Setting up columns  with skills\n",
    "df_skills = df[['python','R','excel','sql','hadoop', 'spark', 'aws','azure']].sum()\n",
    "# Sortin git out \n",
    "sorted_skills = df_skills.sort_values(ascending=True)\n",
    "# Plotting horizontal bars.\n",
    "plt.figure(figsize=(10,6))\n",
    "sorted_skills.plot(kind='barh')\n",
    "plt.xlabel('Number of people')\n",
    "plt.ylabel('Skills')\n",
    "plt.title('Most Common Skills')\n",
    "plt.show()"
   ]
  },
  {
   "cell_type": "markdown",
   "metadata": {},
   "source": [
    "#### Which industries have the highest number of job postings?\n",
    "Listed the top 20 industries with the highest numbe of job postings in Glassdoor for Data Science. </br>\n",
    "The highest is Biotech & Pharmaceitical industries."
   ]
  },
  {
   "cell_type": "code",
   "execution_count": 32,
   "metadata": {},
   "outputs": [
    {
     "data": {
      "image/png": "[encoded data removed]",
      "text/plain": [
       "<Figure size 1000x600 with 1 Axes>"
      ]
     },
     "metadata": {},
     "output_type": "display_data"
    }
   ],
   "source": [
    "# Setting up columns  with skills\n",
    "df_industry = df.groupby('Industry')['Industry'].count().sort_values(ascending=False).iloc[1:20]\n",
    "\n",
    "\n",
    "# Plotting horizontal bars.\n",
    "plt.figure(figsize=(10,6))\n",
    "df_industry.plot(kind='bar')\n",
    "plt.xlabel('Industry')\n",
    "plt.ylabel('Quantity')\n",
    "plt.title('Top 20 Industries with number of jobs')\n",
    "ax = df_industry.plot(kind='bar')\n",
    "\n",
    "ax.set_xticklabels(df_industry.index, rotation=60, ha='right')\n",
    "plt.tight_layout()  # Ensures proper spacing\n",
    "\n",
    "plt.show()"
   ]
  },
  {
   "cell_type": "code",
   "execution_count": null,
   "metadata": {},
   "outputs": [],
   "source": []
  }
 ],
 "metadata": {
  "kernelspec": {
   "display_name": "Python 3",
   "language": "python",
   "name": "python3"
  },
  "language_info": {
   "codemirror_mode": {
    "name": "ipython",
    "version": 3
   },
   "file_extension": ".py",
   "mimetype": "text/x-python",
   "name": "python",
   "nbconvert_exporter": "python",
   "pygments_lexer": "ipython3",
   "version": "3.11.0"
  },
  "orig_nbformat": 4
 },
 "nbformat": 4,
 "nbformat_minor": 2
}
